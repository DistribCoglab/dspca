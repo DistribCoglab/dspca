{
 "cells": [
  {
   "cell_type": "markdown",
   "metadata": {},
   "source": [
    "# tsPCA demo\n",
    "This demo will apply tsPCA to an example neural population activity recorded from mice performing value-based decision making (Hattori et al., Cell, 2019). We will decompose the population activity into demixed 3 targeted value-related subspaces and a subspase which is free of the targeted 3 value-related signals."
   ]
  },
  {
   "cell_type": "markdown",
   "metadata": {},
   "source": [
    "#### Load modules"
   ]
  },
  {
   "cell_type": "code",
   "execution_count": 4,
   "metadata": {
    "pycharm": {
     "name": "#%% Load modules\n"
    },
    "scrolled": false
   },
   "outputs": [
    {
     "ename": "ModuleNotFoundError",
     "evalue": "No module named 'tspca.tspca'; 'tspca' is not a package",
     "output_type": "error",
     "traceback": [
      "\u001B[1;31m---------------------------------------------------------------------------\u001B[0m",
      "\u001B[1;31mModuleNotFoundError\u001B[0m                       Traceback (most recent call last)",
      "\u001B[1;32m<ipython-input-4-aeaf18e32a75>\u001B[0m in \u001B[0;36m<module>\u001B[1;34m\u001B[0m\n\u001B[1;32m----> 1\u001B[1;33m \u001B[1;32mfrom\u001B[0m \u001B[0mtspca\u001B[0m\u001B[1;33m.\u001B[0m\u001B[0mtspca\u001B[0m \u001B[1;32mimport\u001B[0m \u001B[0mtsPCA\u001B[0m\u001B[1;33m\u001B[0m\u001B[1;33m\u001B[0m\u001B[0m\n\u001B[0m\u001B[0;32m      2\u001B[0m \u001B[1;32mimport\u001B[0m \u001B[0mnumpy\u001B[0m \u001B[1;32mas\u001B[0m \u001B[0mnp\u001B[0m\u001B[1;33m\u001B[0m\u001B[1;33m\u001B[0m\u001B[0m\n",
      "\u001B[1;31mModuleNotFoundError\u001B[0m: No module named 'tspca.tspca'; 'tspca' is not a package"
     ]
    }
   ],
   "source": [
    "from tspca.tspca import tsPCA\n",
    "import numpy as np"
   ]
  },
  {
   "cell_type": "markdown",
   "metadata": {},
   "source": [
    "#### Load data"
   ]
  },
  {
   "cell_type": "code",
   "execution_count": null,
   "metadata": {
    "pycharm": {
     "name": "#%% Load data\n"
    }
   },
   "outputs": [],
   "source": [
    "with np.load(r'data/data.npz') as data:\n",
    "    dQ = data['dQ']\n",
    "    Qch = data['Qch']\n",
    "    sQ = data['sQ']\n",
    "    activity = data['activity']\n"
   ]
  },
  {
   "cell_type": "markdown",
   "metadata": {},
   "source": [
    "#### Set parameters"
   ]
  },
  {
   "cell_type": "code",
   "execution_count": null,
   "metadata": {
    "pycharm": {
     "name": "#%% Parameters\n"
    }
   },
   "outputs": [],
   "source": [
    "targets = np.vstack((dQ, Qch, sQ)).T    # Target task-related variables\n",
    "time_range = np.arange(10, 15)  # Time range used to identify subspaces\n",
    "n_dim = 5   # Number of dimensions for each subspace"
   ]
  },
  {
   "cell_type": "markdown",
   "metadata": {},
   "source": [
    "#### Run tsPCA"
   ]
  },
  {
   "cell_type": "code",
   "execution_count": null,
   "metadata": {},
   "outputs": [],
   "source": [
    "projections, activity_remained, correlation, _, _, _, _, _, _, _, _, _ = tsPCA(input=activity, targets=targets, time_range=time_range, n_dim=n_dim)"
   ]
  }
 ],
 "metadata": {
  "kernelspec": {
   "display_name": "Python 3",
   "language": "python",
   "name": "python3"
  },
  "language_info": {
   "codemirror_mode": {
    "name": "ipython",
    "version": 3
   },
   "file_extension": ".py",
   "mimetype": "text/x-python",
   "name": "python",
   "nbconvert_exporter": "python",
   "pygments_lexer": "ipython3",
   "version": "3.7.9"
  },
  "pycharm": {
   "stem_cell": {
    "cell_type": "raw",
    "metadata": {
     "collapsed": false
    },
    "source": [
     "## Installation"
    ]
   }
  }
 },
 "nbformat": 4,
 "nbformat_minor": 1
}