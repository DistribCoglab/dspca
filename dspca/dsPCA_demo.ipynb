{
 "cells": [
  {
   "cell_type": "markdown",
   "metadata": {},
   "source": [
    "# dsPCA demo\n",
    "This demo will apply dsPCA to an example neural population activity recorded from mice performing value-based decision making (Hattori et al., Cell, 2019). We will decompose the population activity into demixed 3 targeted value-related subspaces and a subspase which is free of the targeted 3 value-related signals."
   ]
  },
  {
   "cell_type": "markdown",
   "metadata": {},
   "source": [
    "#### Load modules"
   ]
  },
  {
   "cell_type": "code",
   "execution_count": 4,
   "metadata": {
    "pycharm": {
     "name": "#%% Load modules\n"
    },
    "scrolled": false
   },
   "outputs": [
    {
     "ename": "ModuleNotFoundError",
     "evalue": "No module named 'dspca.dspca'; 'dspca' is not a package",
     "output_type": "error",
     "traceback": [
      "\u001B[1;31m---------------------------------------------------------------------------\u001B[0m",
      "\u001B[1;31mModuleNotFoundError\u001B[0m                       Traceback (most recent call last)",
      "\u001B[1;32m<ipython-input-4-b72cd2519431>\u001B[0m in \u001B[0;36m<module>\u001B[1;34m\u001B[0m\n\u001B[1;32m----> 1\u001B[1;33m \u001B[1;32mfrom\u001B[0m \u001B[0mdspca\u001B[0m\u001B[1;33m.\u001B[0m\u001B[0mdspca\u001B[0m \u001B[1;32mimport\u001B[0m \u001B[0mdsPCA\u001B[0m\u001B[1;33m\u001B[0m\u001B[1;33m\u001B[0m\u001B[0m\n\u001B[0m\u001B[0;32m      2\u001B[0m \u001B[1;32mfrom\u001B[0m \u001B[0msklearn\u001B[0m\u001B[1;33m.\u001B[0m\u001B[0mdecomposition\u001B[0m \u001B[1;32mimport\u001B[0m \u001B[0mPCA\u001B[0m\u001B[1;33m\u001B[0m\u001B[1;33m\u001B[0m\u001B[0m\n\u001B[0;32m      3\u001B[0m \u001B[1;32mimport\u001B[0m \u001B[0mnumpy\u001B[0m \u001B[1;32mas\u001B[0m \u001B[0mnp\u001B[0m\u001B[1;33m\u001B[0m\u001B[1;33m\u001B[0m\u001B[0m\n\u001B[0;32m      4\u001B[0m \u001B[1;33m\u001B[0m\u001B[0m\n",
      "\u001B[1;31mModuleNotFoundError\u001B[0m: No module named 'dspca.dspca'; 'dspca' is not a package"
     ]
    }
   ],
   "source": [
    "from dspca.dspca import dsPCA\n",
    "from sklearn.decomposition import PCA\n",
    "import numpy as np"
   ]
  },
  {
   "cell_type": "markdown",
   "metadata": {},
   "source": [
    "#### Load data"
   ]
  },
  {
   "cell_type": "code",
   "execution_count": 2,
   "metadata": {
    "pycharm": {
     "name": "#%% Load data\n"
    }
   },
   "outputs": [
    {
     "ename": "NameError",
     "evalue": "name 'np' is not defined",
     "output_type": "error",
     "traceback": [
      "\u001B[1;31m---------------------------------------------------------------------------\u001B[0m",
      "\u001B[1;31mNameError\u001B[0m                                 Traceback (most recent call last)",
      "\u001B[1;32m<ipython-input-2-3c768845b7b5>\u001B[0m in \u001B[0;36m<module>\u001B[1;34m\u001B[0m\n\u001B[1;32m----> 1\u001B[1;33m \u001B[1;32mwith\u001B[0m \u001B[0mnp\u001B[0m\u001B[1;33m.\u001B[0m\u001B[0mload\u001B[0m\u001B[1;33m(\u001B[0m\u001B[1;34mr'data/data.npz'\u001B[0m\u001B[1;33m)\u001B[0m \u001B[1;32mas\u001B[0m \u001B[0mdata\u001B[0m\u001B[1;33m:\u001B[0m\u001B[1;33m\u001B[0m\u001B[1;33m\u001B[0m\u001B[0m\n\u001B[0m\u001B[0;32m      2\u001B[0m     \u001B[0mdQ\u001B[0m \u001B[1;33m=\u001B[0m \u001B[0mdata\u001B[0m\u001B[1;33m[\u001B[0m\u001B[1;34m'dQ'\u001B[0m\u001B[1;33m]\u001B[0m\u001B[1;33m\u001B[0m\u001B[1;33m\u001B[0m\u001B[0m\n\u001B[0;32m      3\u001B[0m     \u001B[0mQch\u001B[0m \u001B[1;33m=\u001B[0m \u001B[0mdata\u001B[0m\u001B[1;33m[\u001B[0m\u001B[1;34m'Qch'\u001B[0m\u001B[1;33m]\u001B[0m\u001B[1;33m\u001B[0m\u001B[1;33m\u001B[0m\u001B[0m\n\u001B[0;32m      4\u001B[0m     \u001B[0msQ\u001B[0m \u001B[1;33m=\u001B[0m \u001B[0mdata\u001B[0m\u001B[1;33m[\u001B[0m\u001B[1;34m'sQ'\u001B[0m\u001B[1;33m]\u001B[0m\u001B[1;33m\u001B[0m\u001B[1;33m\u001B[0m\u001B[0m\n\u001B[0;32m      5\u001B[0m     \u001B[0mactivity\u001B[0m \u001B[1;33m=\u001B[0m \u001B[0mdata\u001B[0m\u001B[1;33m[\u001B[0m\u001B[1;34m'activity'\u001B[0m\u001B[1;33m]\u001B[0m\u001B[1;33m\u001B[0m\u001B[1;33m\u001B[0m\u001B[0m\n",
      "\u001B[1;31mNameError\u001B[0m: name 'np' is not defined"
     ]
    }
   ],
   "source": [
    "with np.load(r'data/data.npz') as data:\n",
    "    dQ = data['dQ']  # Target\n",
    "    Qch = data['Qch']  # Target\n",
    "    sQ = data['sQ']  # Target\n",
    "    activity = data['activity']  # Neural population activity (Trial X Time X Cell)\n"
   ]
  },
  {
   "cell_type": "markdown",
   "metadata": {},
   "source": [
    "#### Set parameters"
   ]
  },
  {
   "cell_type": "code",
   "execution_count": null,
   "metadata": {
    "pycharm": {
     "name": "#%% Parameters\n"
    }
   },
   "outputs": [],
   "source": [
    "targets = np.vstack((dQ, Qch, sQ)).T    # Target task-related variables\n",
    "time_range = np.arange(10, 15)  # Time range used to identify subspaces\n",
    "activity_mean = np.mean(activity[:, time_range, :], axis=1)  # Temporally averaged neural population activity (Trial X Cell)"
   ]
  },
  {
   "cell_type": "markdown",
   "source": [
    "#### Run dsPCA"
   ],
   "metadata": {
    "collapsed": false
   }
  },
  {
   "cell_type": "code",
   "execution_count": null,
   "outputs": [],
   "source": [
    "projection_target_subspace, projection_targetfree_subspace, ax_targets, ax_targetfree, \\\n",
    "target_subspace_signal, targetfree_subspace_signal, target_subspace_var, targetfree_subspace_var, total_var, dot_target_ax\\\n",
    "    = dsPCA(data=activity_mean, targets=targets)"
   ],
   "metadata": {
    "collapsed": false,
    "pycharm": {
     "name": "#%%\n"
    }
   }
  },
  {
   "cell_type": "markdown",
   "source": [
    "projection_target_subspace\n",
    "- Projections of population activity to demixed target signal axes ([Trials] x [target dimensions]). The dimension type is in the order of dQ, Qch, sQ.\n",
    "\n",
    "projection_targetfree_subspace\n",
    "- Projections of population activity to the axes of target-free subspace ([Trials] x [target-free dimensions]). The dimensions are ordered according to the amount of explained activity variance.\n",
    "\n",
    "ax_targets\n",
    "- Axis vectors for the target signal subspace.\n",
    "\n",
    "ax_targetfree\n",
    "- Axis vectors for the target-free signal subspace.\n",
    "\n",
    "target_subspace_signal\n",
    "- Pearson correlation coefficient between the activity along each target axis and the targeted task-related variables. The 1st dimension indicates target axis type, the 2nd dimension indicates target variables, the 3rd dimension specifies the correlation coefficient (0) or the p-value (1).\n",
    "\n",
    "targetfree_subspace_signal\n",
    "- Pearson correlation coefficient between the activity along each target-free axis and the targeted task-related variables. The 1st dimension indicates target-free axes, the 2nd dimension indicates target variables, the 3rd dimension specifies the correlation coefficient (0) or the p-value (1).\n",
    "\n",
    "target_subspace_var\n",
    "- Activity variance along each taraget axis\n",
    "\n",
    "targetfree_subspace_var\n",
    "- Activity variance along each taraget-free axis\n",
    "\n",
    "total_var\n",
    "- Total activity variance of the original input data (activity_mean)\n",
    "\n",
    "dot_target_ax\n",
    "- Matrix with dot products between pairs of target axis vectors."
   ],
   "metadata": {
    "collapsed": false
   }
  },
  {
   "cell_type": "markdown",
   "source": [
    "#### Project original Trial X Time X Cell tensor to a target subspace and a target-free subspace"
   ],
   "metadata": {
    "collapsed": false
   }
  },
  {
   "cell_type": "code",
   "execution_count": null,
   "outputs": [],
   "source": [
    "projection_target_subspace_3d = np.matmul(activity, ax_targets)\n",
    "projection_targetfree_subspace_3d = np.matmul(activity, ax_targetfree)"
   ],
   "metadata": {
    "collapsed": false,
    "pycharm": {
     "name": "#%%\n"
    }
   }
  },
  {
   "cell_type": "markdown",
   "source": [
    "#### Dimensions that capture the largest within-trial temporal data variance within the target subspace and the target-free subspace"
   ],
   "metadata": {
    "collapsed": false
   }
  },
  {
   "cell_type": "code",
   "execution_count": null,
   "outputs": [],
   "source": [
    "pc_num = 2  # Number of dimensions for temporal axes\n",
    "pca_time = PCA(n_components=pc_num)\n",
    "projection_target_subspace_temporal = pca_time.fit_transform(np.mean(projection_target_subspace_3d, axis=0)).shape\n",
    "projection_targetfree_subspace_temporal = pca_time.fit_transform(np.mean(projection_targetfree_subspace_3d, axis=0)).shape\n"
   ],
   "metadata": {
    "collapsed": false,
    "pycharm": {
     "name": "#%%\n"
    }
   }
  }
 ],
 "metadata": {
  "kernelspec": {
   "name": "pycharm-c100206",
   "language": "python",
   "display_name": "PyCharm (dspca)"
  },
  "language_info": {
   "codemirror_mode": {
    "name": "ipython",
    "version": 3
   },
   "file_extension": ".py",
   "mimetype": "text/x-python",
   "name": "python",
   "nbconvert_exporter": "python",
   "pygments_lexer": "ipython3",
   "version": "3.7.9"
  }
 },
 "nbformat": 4,
 "nbformat_minor": 1
}